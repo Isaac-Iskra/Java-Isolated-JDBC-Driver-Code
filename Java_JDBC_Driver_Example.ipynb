{
  "nbformat": 4,
  "nbformat_minor": 0,
  "metadata": {
    "colab": {
      "provenance": []
    },
    "kernelspec": {
      "name": "python3",
      "display_name": "Python 3"
    },
    "language_info": {
      "name": "python"
    }
  },
  "cells": [
    {
      "cell_type": "code",
      "execution_count": null,
      "metadata": {
        "id": "Th1jV0VB6WB0"
      },
      "outputs": [],
      "source": []
    },
    {
      "cell_type": "markdown",
      "source": [
        "These code blocks are an example of an isolated JDBC Driver"
      ],
      "metadata": {
        "id": "lotXIZi26ZDy"
      }
    },
    {
      "cell_type": "code",
      "source": [
        "import java.sql.*;\n",
        "\n",
        "public class JDBCDriverExample {\n",
        "    public static void main(String[] args) {\n",
        "        Connection connection = null;\n",
        "        Statement statement = null;\n",
        "        ResultSet resultSet = null;\n",
        "\n",
        "        try {\n",
        "            // Load the JDBC driver\n",
        "            Class.forName(\"com.mysql.jdbc.Driver\");\n",
        "\n",
        "            // Open a connection to the database\n",
        "            String url = \"jdbc:mysql://localhost:3306/mydatabase\";\n",
        "            String username = \"myusername\";\n",
        "            String password = \"mypassword\";\n",
        "            connection = DriverManager.getConnection(url, username, password);\n",
        "\n",
        "            // Execute a SQL statement\n",
        "            statement = connection.createStatement();\n",
        "            String sql = \"SELECT * FROM customers\";\n",
        "            resultSet = statement.executeQuery(sql);\n",
        "\n",
        "            // Process the result set\n",
        "            while (resultSet.next()) {\n",
        "                int id = resultSet.getInt(\"id\");\n",
        "                String name = resultSet.getString(\"name\");\n",
        "                String email = resultSet.getString(\"email\");\n",
        "                System.out.println(id + \" | \" + name + \" | \" + email);\n",
        "            }\n",
        "        } catch (ClassNotFoundException e) {\n",
        "            e.printStackTrace();\n",
        "        } catch (SQLException e) {\n",
        "            e.printStackTrace();\n",
        "        } finally {\n",
        "            // Close the resources\n",
        "            try {\n",
        "                if (resultSet != null) resultSet.close();\n",
        "                if (statement != null) statement.close();\n",
        "                if (connection != null) connection.close();\n",
        "            } catch (SQLException e) {\n",
        "                e.printStackTrace();\n",
        "            }\n",
        "        }\n",
        "    }\n",
        "}\n"
      ],
      "metadata": {
        "id": "gi3S42bG6fH4"
      },
      "execution_count": null,
      "outputs": []
    },
    {
      "cell_type": "markdown",
      "source": [
        "Here's another way to do it:"
      ],
      "metadata": {
        "id": "pc1agS2r6hZg"
      }
    },
    {
      "cell_type": "code",
      "source": [
        "import java.sql.*;\n",
        "\n",
        "public class JdbcDriverExample {\n",
        "    public static void main(String[] args) {\n",
        "        try {\n",
        "            // Load the JDBC driver\n",
        "            Class.forName(\"com.mysql.jdbc.Driver\");\n",
        "\n",
        "            // Set up the connection parameters\n",
        "            String url = \"jdbc:mysql://localhost:3306/mydb\";\n",
        "            String username = \"root\";\n",
        "            String password = \"password\";\n",
        "\n",
        "            // Create the connection\n",
        "            Connection conn = DriverManager.getConnection(url, username, password);\n",
        "\n",
        "            // Execute a query\n",
        "            Statement stmt = conn.createStatement();\n",
        "            String sql = \"SELECT * FROM customers\";\n",
        "            ResultSet rs = stmt.executeQuery(sql);\n",
        "\n",
        "            // Process the results\n",
        "            while (rs.next()) {\n",
        "                String name = rs.getString(\"name\");\n",
        "                String email = rs.getString(\"email\");\n",
        "                System.out.println(name + \" \" + email);\n",
        "            }\n",
        "\n",
        "            // Close the resources\n",
        "            rs.close();\n",
        "            stmt.close();\n",
        "            conn.close();\n",
        "        } catch (Exception e) {\n",
        "            e.printStackTrace();\n",
        "        }\n",
        "    }\n",
        "}\n"
      ],
      "metadata": {
        "id": "0Vm0kWj-6kKx"
      },
      "execution_count": null,
      "outputs": []
    }
  ]
}